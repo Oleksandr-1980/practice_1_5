{
 "cells": [
  {
   "cell_type": "markdown",
   "metadata": {},
   "source": [
    "# Task 2/1 #\n",
    "\n",
    "## 5206 ##\n",
    "### Журавський ###\n",
    "#### Олександр ####\n",
    "email:\n",
    "1. Z12345@i.ua\n",
    "2. ZO1234@gmail.com\n",
    "\n",
    "hobbis:\n",
    "- fishing\n",
    "- football"
   ]
  },
  {
   "cell_type": "code",
   "execution_count": 5,
   "metadata": {},
   "outputs": [
    {
     "name": "stdout",
     "output_type": "stream",
     "text": [
      "Привіт, це моя перша робота з Jupyter Notebook у VS Code!\n"
     ]
    }
   ],
   "source": [
    "# Task 3/1\n",
    "\n",
    "print(\"Привіт, це моя перша робота з Jupyter Notebook у VS Code!\")"
   ]
  },
  {
   "cell_type": "code",
   "execution_count": 7,
   "metadata": {},
   "outputs": [
    {
     "name": "stdout",
     "output_type": "stream",
     "text": [
      "Oleksandr 44 80.5 True\n",
      "<class 'str'> <class 'int'> <class 'float'> <class 'bool'>\n"
     ]
    }
   ],
   "source": [
    "# Task 4/1\n",
    "\n",
    "name = \"Oleksandr\"  # str\n",
    "age = 44        # int\n",
    "height = 80.5   # float\n",
    "is_student = True  # bool\n",
    "\n",
    "print(name, age, height, is_student)\n",
    "print(type(name), type(age), type(height), type(is_student))"
   ]
  },
  {
   "cell_type": "code",
   "execution_count": 12,
   "metadata": {},
   "outputs": [
    {
     "name": "stdout",
     "output_type": "stream",
     "text": [
      "Результат 5 * 2 + 3 = 13\n"
     ]
    }
   ],
   "source": [
    "# Task 4/2\n",
    "\n",
    "user_input = input(\"Введіть ціле число: \")\n",
    "number = int(user_input)  # перетворюємо з рядка у ціле\n",
    "result = number * 2 + 3\n",
    "print(f\"Результат {number} * 2 + 3 = {result}\")"
   ]
  },
  {
   "cell_type": "code",
   "execution_count": 1,
   "metadata": {},
   "outputs": [
    {
     "name": "stdout",
     "output_type": "stream",
     "text": [
      "Ваш вік: 23\n",
      "Вітаємо! Ви повнолітній.\n",
      "До нових зустрічей\n"
     ]
    }
   ],
   "source": [
    "# Task 5/1\n",
    "\n",
    "age = int(input(\"Введіть ваш вік: \"))\n",
    "print(\"Ваш вік:\", age)\n",
    "if age < 18:\n",
    "    print(\"Ви ще неповнолітній.\")\n",
    "else:\n",
    "    print(\"Вітаємо! Ви повнолітній.\")  \n",
    "print(\"До нових зустрічей\")"
   ]
  },
  {
   "cell_type": "code",
   "execution_count": 1,
   "metadata": {},
   "outputs": [
    {
     "name": "stdout",
     "output_type": "stream",
     "text": [
      "порядковий номер в Журналі -  2\n",
      "1\n",
      "2\n",
      "3\n",
      "4\n",
      "5\n",
      "6\n",
      "7\n",
      "8\n",
      "9\n",
      "10\n",
      "11\n",
      "12\n",
      "              і в зворотньому порядку\n",
      "12\n",
      "11\n",
      "10\n",
      "9\n",
      "8\n",
      "7\n",
      "6\n",
      "5\n",
      "4\n",
      "3\n",
      "2\n",
      "1\n"
     ]
    }
   ],
   "source": [
    "# Task 5/2\n",
    "\n",
    "number = int(input(\"введіть Ваш порядковий номер в Журналі:\"))\n",
    "print(\"порядковий номер в Журналі - \", number)\n",
    "x = int(10+number)\n",
    "for i in range(1, x+1):\n",
    "    print(i)\n",
    "print(\"              і в зворотньому порядку\")\n",
    "j = x\n",
    "while j >= 1:\n",
    "    print(j)\n",
    "    j -= 1"
   ]
  },
  {
   "cell_type": "code",
   "execution_count": 3,
   "metadata": {},
   "outputs": [
    {
     "name": "stdout",
     "output_type": "stream",
     "text": [
      "ваше перше число -  5\n",
      "ваше друге число -  6\n",
      "вибрана вами операція *\n",
      "Результат: 30\n"
     ]
    }
   ],
   "source": [
    "# простий калькулятор\n",
    "\n",
    "num1 = int(input(\"Введіть перше число: \"))\n",
    "print(\"ваше перше число - \", num1) \n",
    "num2 = int(input(\"Введіть друге число: \"))\n",
    "print(\"ваше друге число - \", num2)\n",
    "operation = input(\"Оберіть операцію +, -, *, /\")\n",
    "print(\"вибрана вами операція\", operation)\n",
    "\n",
    "if operation == \"+\":\n",
    "    result = num1 + num2\n",
    "elif operation == \"-\":\n",
    "    result = num1 - num2\n",
    "elif operation == \"*\":\n",
    "    result = num1 * num2\n",
    "elif operation == \"/\":\n",
    "    if num2 == 0:\n",
    "        result = \"Помилка: ділення на нуль!\"\n",
    "    else:\n",
    "        result = num1 / num2\n",
    "else:\n",
    "    result = \"Невідома операція!\"\n",
    "\n",
    "print(\"Результат:\", result)"
   ]
  }
 ],
 "metadata": {
  "kernelspec": {
   "display_name": "Python 3",
   "language": "python",
   "name": "python3"
  },
  "language_info": {
   "codemirror_mode": {
    "name": "ipython",
    "version": 3
   },
   "file_extension": ".py",
   "mimetype": "text/x-python",
   "name": "python",
   "nbconvert_exporter": "python",
   "pygments_lexer": "ipython3",
   "version": "3.11.9"
  }
 },
 "nbformat": 4,
 "nbformat_minor": 2
}
